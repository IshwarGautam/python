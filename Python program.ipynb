{
 "cells": [
  {
   "cell_type": "code",
   "execution_count": 1,
   "metadata": {},
   "outputs": [
    {
     "name": "stdout",
     "output_type": "stream",
     "text": [
      "5\n",
      "8\n",
      "13\n"
     ]
    }
   ],
   "source": [
    "# Program to add two integer numbers\n",
    "def addition(a,b):\n",
    "    return a+b\n",
    "num1 = int(input())\n",
    "num2 = int(input())\n",
    "print(addition(num1,num2))"
   ]
  },
  {
   "cell_type": "code",
   "execution_count": 2,
   "metadata": {},
   "outputs": [
    {
     "name": "stdout",
     "output_type": "stream",
     "text": [
      "5\n",
      "25\n"
     ]
    }
   ],
   "source": [
    "# Write a code that takes a number as an input and returns the square of the provided number\n",
    "def square(num):\n",
    "    return num**2\n",
    "num = int(input())\n",
    "print(square(num))"
   ]
  },
  {
   "cell_type": "code",
   "execution_count": 3,
   "metadata": {},
   "outputs": [
    {
     "name": "stdout",
     "output_type": "stream",
     "text": [
      "5\n",
      "78.5\n"
     ]
    }
   ],
   "source": [
    "# Program to calcuate area of circle\n",
    "def area_of_circle(radius):\n",
    "    return 3.14*radius*radius\n",
    "r = float(input())\n",
    "print(area_of_circle(r))"
   ]
  },
  {
   "cell_type": "code",
   "execution_count": 4,
   "metadata": {},
   "outputs": [
    {
     "name": "stdout",
     "output_type": "stream",
     "text": [
      "40.38461538461539\n"
     ]
    }
   ],
   "source": [
    "# WAP to calculate the interest amount when time is 7 weeks, interest rate is 3% and principle amount is 10 thousand.\n",
    "def interest(p,t,r):\n",
    "    return (p*t*r)/100\n",
    "print(interest(10000,7/52,3))"
   ]
  },
  {
   "cell_type": "code",
   "execution_count": 5,
   "metadata": {},
   "outputs": [
    {
     "name": "stdout",
     "output_type": "stream",
     "text": [
      "5\n",
      "10\n",
      "7\n",
      "10\n"
     ]
    }
   ],
   "source": [
    "# WAP to find maximum among three numbers using function\n",
    "def maximum(a,b,c):\n",
    "    return max(a,b,c)\n",
    "a = int(input())\n",
    "b = int(input())\n",
    "c = int(input())\n",
    "print(maximum(a,b,c))"
   ]
  },
  {
   "cell_type": "code",
   "execution_count": 6,
   "metadata": {},
   "outputs": [
    {
     "name": "stdout",
     "output_type": "stream",
     "text": [
      "4\n",
      "10\n"
     ]
    }
   ],
   "source": [
    "# WAP to find the sum of the numbers till N, where N is the natural number entered by the user\n",
    "def result(num):\n",
    "    a = 0\n",
    "    for i in range(num+1):\n",
    "        a = a+i\n",
    "    return a\n",
    "num = int(input())\n",
    "print(result(num))"
   ]
  },
  {
   "cell_type": "code",
   "execution_count": 19,
   "metadata": {},
   "outputs": [
    {
     "name": "stdout",
     "output_type": "stream",
     "text": [
      "3\n"
     ]
    }
   ],
   "source": [
    "# WAP to take input from the user. If user enter 1, it should automatically open youtube, if user enter 2, it should automatically open facebook and if user enter 3, it should automatically open gmail.\n",
    "import webbrowser\n",
    "\n",
    "key = input()\n",
    "if key=='1':\n",
    "    webbrowser.open(\"www.youtube.com\")\n",
    "if key =='2':\n",
    "    webbrowser.open(\"www.facebook.com\")\n",
    "if key=='3':\n",
    "    webbrowser.open(\"www.gmail.com\")\n",
    "\n"
   ]
  },
  {
   "cell_type": "code",
   "execution_count": 12,
   "metadata": {},
   "outputs": [
    {
     "name": "stdout",
     "output_type": "stream",
     "text": [
      "My name is Ishwar Gautam\n",
      "mYNAMEISISHWARGAUTAM\n"
     ]
    }
   ],
   "source": [
    "# Write a program to take sentence from the user as input. In output, you have to remove all white spaces, and make first character as lower case and all other as upper case.\n",
    "# for example: Input: HeLLo WoRlD\n",
    "# output: hELLOWORLD\n",
    "def function():\n",
    "    string = input()\n",
    "    string = string.replace(\" \",\"\")\n",
    "    return (string[0].lower()+string[1:].upper())\n",
    "print(function())"
   ]
  },
  {
   "cell_type": "code",
   "execution_count": 14,
   "metadata": {},
   "outputs": [
    {
     "name": "stdout",
     "output_type": "stream",
     "text": [
      "HELLO WORLD\n",
      "{'a': 0, 'e': 1, 'i': 0, 'o': 2, 'u': 0}\n"
     ]
    }
   ],
   "source": [
    "# WAP to take sentence from the user as input. In output, you have to print the number of vowel letter in dicionary.\n",
    "# For example: Input: Hello World\n",
    "#output: {'a':0, 'e':1, 'i':0, 'o':2, 'u':0}\n",
    "\n",
    "def logic(my_input):\n",
    "    count={'a':0,'e':0,'i':0,'o':0,'u':0}\n",
    "    my_input = my_input.lower()\n",
    "    for char in my_input:\n",
    "        if char in count:\n",
    "            count[char] += 1\n",
    "    return count\n",
    "my_input = input()\n",
    "print(logic(my_input))"
   ]
  },
  {
   "cell_type": "code",
   "execution_count": 8,
   "metadata": {},
   "outputs": [
    {
     "name": "stdout",
     "output_type": "stream",
     "text": [
      "370\n",
      "Armstrong number\n"
     ]
    }
   ],
   "source": [
    "# WAP to check whether the number is armstrong or not using function\n",
    "def armstrong(num):\n",
    "    sum = 0\n",
    "    temp = num\n",
    "    while num!=0:\n",
    "        digit = num%10\n",
    "        num = num//10\n",
    "        sum = sum+(digit**3)\n",
    "    if temp == sum:\n",
    "        print(\"Armstrong number\")\n",
    "    else:\n",
    "        print(\"Not Armstrong number\")\n",
    "num = int(input())\n",
    "armstrong(num)"
   ]
  },
  {
   "cell_type": "code",
   "execution_count": 9,
   "metadata": {},
   "outputs": [
    {
     "name": "stdout",
     "output_type": "stream",
     "text": [
      "121\n",
      "Palindrome number\n"
     ]
    }
   ],
   "source": [
    "# WAP to check whether a number is palindrome or not\n",
    "def palindrome(num):\n",
    "    sum = 0\n",
    "    temp = num\n",
    "    while num!=0:\n",
    "        digit = num%10\n",
    "        num = num//10\n",
    "        sum = sum*10 + digit\n",
    "    if temp == sum:\n",
    "        print(\"Palindrome number\")\n",
    "    else:\n",
    "        print(\"Not Palindrome number\")\n",
    "num = int(input())\n",
    "palindrome(num)"
   ]
  },
  {
   "cell_type": "code",
   "execution_count": 4,
   "metadata": {},
   "outputs": [
    {
     "name": "stdout",
     "output_type": "stream",
     "text": [
      "Enter the order of matrix in the form x*y: 2*3\n",
      "Enter element of matrix: one element at a time and row by row:\n",
      "\n",
      "6\n",
      "7\n",
      "8\n",
      "11\n",
      "2\n",
      "10\n",
      "[[6, 7, 8], [11, 2, 10]]\n",
      "Transpose matrix is: \n",
      "[6, 11]\n",
      "[7, 2]\n",
      "[8, 10]\n"
     ]
    }
   ],
   "source": [
    "# WAP to transpose a matrix\n",
    "i,j = input(\"Enter the order of matrix in the form x*y: \").split('*')\n",
    "print(\"Enter element of matrix: one element at a time and row by row:\\n\")\n",
    "mat=[]\n",
    "for a in range(int(i)):\n",
    "    lst=[]\n",
    "    for b in range(int(j)):\n",
    "        lst.append(int(input()))\n",
    "    mat.append(lst)\n",
    "\n",
    "print(\"Transpose matrix is: \")\n",
    "result=[] \n",
    "for b in range(int(j)):\n",
    "    lst=[]\n",
    "    for a in range(int(i)):\n",
    "        lst.append(mat[a][b])\n",
    "    result.append(lst)\n",
    "\n",
    "for r in result:\n",
    "    print(r)\n",
    "        "
   ]
  },
  {
   "cell_type": "code",
   "execution_count": 5,
   "metadata": {},
   "outputs": [
    {
     "name": "stdout",
     "output_type": "stream",
     "text": [
      "Enter the dimension of the matrix in the form x*y: 2*3\n",
      "Enter element of first matrix: one element at a time and row by row:\n",
      "\n",
      "6\n",
      "7\n",
      "8\n",
      "11\n",
      "2\n",
      "10\n",
      "Enter element of second matrix: one element at a time and row by row:\n",
      "\n",
      "1\n",
      "10\n",
      "6\n",
      "2\n",
      "5\n",
      "3\n",
      "Addition of matrix: \n",
      "\n",
      "[7, 17, 14]\n",
      "[13, 7, 13]\n"
     ]
    }
   ],
   "source": [
    "# Matrix addition \n",
    "\n",
    "i,j=input(\"Enter the dimension of the matrix in the form x*y: \").split('*')\n",
    "mat1=[]\n",
    "mat2=[]\n",
    "print(\"Enter element of first matrix: one element at a time and row by row:\\n\")\n",
    "for a in range(int(i)):\n",
    "    lst=[]\n",
    "    for b in range(int(j)):\n",
    "        lst.append(int(input()))\n",
    "    mat1.append(lst)\n",
    "    \n",
    "print(\"Enter element of second matrix: one element at a time and row by row:\\n\")\n",
    "for a in range(int(i)):\n",
    "    lst=[]\n",
    "    for b in range(int(j)):\n",
    "        lst.append(int(input()))\n",
    "    mat2.append(lst)\n",
    "    \n",
    "print(\"Addition of matrix: \\n\")\n",
    "result= []\n",
    "for a in range(int(i)):\n",
    "    lst=[]\n",
    "    for b in range(int(j)):\n",
    "        mat1[a][b]+=mat2[a][b]\n",
    "        lst.append(mat1[a][b])\n",
    "    result.append(lst)\n",
    "\n",
    "for r in result:\n",
    "    print(r)\n"
   ]
  },
  {
   "cell_type": "code",
   "execution_count": 3,
   "metadata": {},
   "outputs": [
    {
     "name": "stdout",
     "output_type": "stream",
     "text": [
      "Enter the dimension of the first matrix in the form x*y: 2*3\n",
      "Enter the dimension of the second matrix in the form x*y: 3*2\n",
      "Enter element of first matrix: one element at a time and row by row:\n",
      "\n",
      "1\n",
      "3\n",
      "2\n",
      "2\n",
      "4\n",
      "1\n",
      "Enter element of second matrix: one element at a time and row by row:\n",
      "\n",
      "6\n",
      "2\n",
      "1\n",
      "3\n",
      "3\n",
      "2\n",
      "The resultant matrix is:\n",
      "[15, 15]\n",
      "[19, 18]\n"
     ]
    }
   ],
   "source": [
    "# Matrix multiplication with python\n",
    "\n",
    "i,j=input(\"Enter the dimension of the first matrix in the form x*y: \").split('*')\n",
    "k,l=input(\"Enter the dimension of the second matrix in the form x*y: \").split('*')\n",
    "mat1=[]\n",
    "mat2=[]\n",
    "if(int(j)!=int(k)):\n",
    "    print(\"Invalid order of the matrix.....\")\n",
    "else:\n",
    "    print(\"Enter element of first matrix: one element at a time and row by row:\\n\")\n",
    "    for a in range(int(i)):\n",
    "        lst=[]\n",
    "        for b in range(int(j)):\n",
    "            lst.append(int(input()))\n",
    "        mat1.append(lst)\n",
    "    \n",
    "    print(\"Enter element of second matrix: one element at a time and row by row:\\n\")\n",
    "    for a in range(int(k)):\n",
    "        lst=[]\n",
    "        for b in range(int(l)):\n",
    "            lst.append(int(input()))\n",
    "        mat2.append(lst)\n",
    "        \n",
    "    result=[]\n",
    "    for a in range(int(i)):\n",
    "        lst=[]\n",
    "        for b in range(int(l)):\n",
    "            lst.append(0)\n",
    "        result.append(lst)\n",
    "\n",
    "    for a in range(len(mat1)):\n",
    "        for b in range(len(mat2[0])):\n",
    "            for c in range(len(mat2)):\n",
    "                result[a][b] += mat1[a][c] * mat2[c][b]\n",
    "\n",
    "    print(\"The resultant matrix is:\")\n",
    "    for r in result:\n",
    "        print(r)"
   ]
  },
  {
   "cell_type": "code",
   "execution_count": null,
   "metadata": {},
   "outputs": [],
   "source": []
  }
 ],
 "metadata": {
  "kernelspec": {
   "display_name": "Python 3",
   "language": "python",
   "name": "python3"
  },
  "language_info": {
   "codemirror_mode": {
    "name": "ipython",
    "version": 3
   },
   "file_extension": ".py",
   "mimetype": "text/x-python",
   "name": "python",
   "nbconvert_exporter": "python",
   "pygments_lexer": "ipython3",
   "version": "3.7.7"
  }
 },
 "nbformat": 4,
 "nbformat_minor": 4
}
